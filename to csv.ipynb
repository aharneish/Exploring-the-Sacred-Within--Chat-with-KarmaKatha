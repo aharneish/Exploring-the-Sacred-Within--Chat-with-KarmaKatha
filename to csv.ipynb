{
 "cells": [
  {
   "cell_type": "code",
   "execution_count": 3,
   "metadata": {},
   "outputs": [
    {
     "name": "stdout",
     "output_type": "stream",
     "text": [
      "QA pairs saved to sss.csv\n"
     ]
    }
   ],
   "source": [
    "import csv\n",
    "import re\n",
    "\n",
    "# Define a function to extract QA pairs from the text\n",
    "def extract_qa_pairs_from_file(file_path):\n",
    "    qa_pairs = []\n",
    "    current_qa = {\"Question\": \"\", \"Answer\": \"\", \"Context\": \"\"}\n",
    "    with open(file_path, 'r', encoding='utf-8') as file:\n",
    "        for line in file:\n",
    "            line = line.strip()\n",
    "            if line.startswith((\"Q\", \"1\", \"2\", \"3\", \"4\", \"5\", \"6\", \"7\", \"8\", \"9\")):\n",
    "                current_qa[\"Question\"] = re.sub(r'^[0-9]+: ', '', line)\n",
    "            elif line.startswith((\"A\")):\n",
    "                current_qa[\"Answer\"] = re.sub(r'^[0-9]+: ', '', line)\n",
    "                qa_pairs.append(current_qa.copy())\n",
    "                current_qa = {\"Question\": \"\", \"Answer\": \"\", \"Context\": \"\"}\n",
    "            elif line.startswith(\"Context\"):\n",
    "                current_qa[\"Context\"] = re.sub(r'^[0-9]+: ', '', line)\n",
    "            elif line.startswith(\"Lines\"):\n",
    "                current_qa[\"Context\"] = re.sub(r'^[0-9]+: ', '', line)\n",
    "    return qa_pairs\n",
    "\n",
    "# Input file containing QA pairs (replace with your file path)\n",
    "input_file_path = \"D:/documents to finetune/sft docs/sathya sai speaks.txt\"\n",
    "\n",
    "# Extract QA pairs from the input file\n",
    "qa_pairs = extract_qa_pairs_from_file(input_file_path)\n",
    "\n",
    "# Define the CSV file path to save the data\n",
    "csv_file_path = \"sss.csv\"\n",
    "\n",
    "# Write the QA pairs to a CSV file\n",
    "with open(csv_file_path, mode='w', newline='', encoding='utf-8') as file:\n",
    "    fieldnames = [\"Question\", \"Answer\", \"Context\"]\n",
    "    writer = csv.DictWriter(file, fieldnames=fieldnames)\n",
    "    writer.writeheader()\n",
    "    for qa_pair in qa_pairs:\n",
    "        writer.writerow(qa_pair)\n",
    "\n",
    "print(f\"QA pairs saved to {csv_file_path}\")\n"
   ]
  },
  {
   "cell_type": "code",
   "execution_count": 19,
   "metadata": {},
   "outputs": [
    {
     "name": "stderr",
     "output_type": "stream",
     "text": [
      "C:\\Users\\Msc 2\\AppData\\Local\\Temp\\ipykernel_2188\\2937450713.py:16: FutureWarning: The frame.append method is deprecated and will be removed from pandas in a future version. Use pandas.concat instead.\n",
      "  merged_df = merged_df.append(df, ignore_index=True)\n"
     ]
    }
   ],
   "source": [
    "import pandas as pd\n",
    "import glob\n",
    "\n",
    "# List all CSV files in the directory that you want to merge\n",
    "csv_files = glob.glob(\"*.csv\")\n",
    "\n",
    "# Initialize an empty DataFrame to store the merged data\n",
    "merged_df = pd.DataFrame()\n",
    "\n",
    "# Loop through each CSV file and append it to the merged DataFrame\n",
    "for file in csv_files:\n",
    "    # Read the CSV file into a DataFrame\n",
    "    df = pd.read_csv(file)\n",
    "    \n",
    "    # Append the DataFrame to the merged DataFrame\n",
    "    merged_df = merged_df.append(df, ignore_index=True)\n",
    "\n",
    "# Save the merged DataFrame to a new CSV file\n",
    "merged_df.to_csv(\"merged.csv\", index=False)\n"
   ]
  },
  {
   "cell_type": "code",
   "execution_count": 15,
   "metadata": {},
   "outputs": [],
   "source": [
    "import pandas as pd"
   ]
  },
  {
   "cell_type": "code",
   "execution_count": 2,
   "metadata": {},
   "outputs": [],
   "source": [
    "df=pd.read_csv(\"merged.csv\")"
   ]
  },
  {
   "cell_type": "code",
   "execution_count": 3,
   "metadata": {},
   "outputs": [
    {
     "data": {
      "text/plain": [
       "(7653, 8)"
      ]
     },
     "execution_count": 3,
     "metadata": {},
     "output_type": "execute_result"
    }
   ],
   "source": [
    "df.shape"
   ]
  },
  {
   "cell_type": "code",
   "execution_count": 1,
   "metadata": {},
   "outputs": [],
   "source": [
    "import pandas as pd\n",
    "import os\n",
    "\n",
    "# Get the path to the folder\n",
    "folder_path = \"D:/documents to finetune/sft csv/\"\n",
    "\n",
    "# Get the list of CSV files in the folder\n",
    "csv_files = os.listdir(folder_path)\n",
    "\n",
    "# Merge the CSV files\n",
    "df = pd.concat(\n",
    "    [pd.read_csv(os.path.join(folder_path, csv_file)) for csv_file in csv_files],\n",
    "    axis=0,\n",
    ")\n",
    "\n",
    "# Write the DataFrame to a new CSV file\n",
    "df.to_csv('merged.csv', index=False)\n"
   ]
  },
  {
   "cell_type": "code",
   "execution_count": 4,
   "metadata": {},
   "outputs": [
    {
     "ename": "ValueError",
     "evalue": "The truth value of an array with more than one element is ambiguous. Use a.any() or a.all()",
     "output_type": "error",
     "traceback": [
      "\u001b[1;31m---------------------------------------------------------------------------\u001b[0m",
      "\u001b[1;31mValueError\u001b[0m                                Traceback (most recent call last)",
      "Cell \u001b[1;32mIn[4], line 16\u001b[0m\n\u001b[0;32m     14\u001b[0m \u001b[39mfor\u001b[39;00m csv_file \u001b[39min\u001b[39;00m csv_files[\u001b[39m1\u001b[39m:]:\n\u001b[0;32m     15\u001b[0m     column_names \u001b[39m=\u001b[39m pd\u001b[39m.\u001b[39mread_csv(os\u001b[39m.\u001b[39mpath\u001b[39m.\u001b[39mjoin(folder_path, csv_file))\u001b[39m.\u001b[39mcolumns\n\u001b[1;32m---> 16\u001b[0m     \u001b[39mif\u001b[39;00m first_file_column_names \u001b[39m!=\u001b[39;49m column_names:\n\u001b[0;32m     17\u001b[0m         \u001b[39mprint\u001b[39m(\u001b[39m'\u001b[39m\u001b[39mThe column names are not the same.\u001b[39m\u001b[39m'\u001b[39m)\n\u001b[0;32m     18\u001b[0m         \u001b[39mbreak\u001b[39;00m\n",
      "\u001b[1;31mValueError\u001b[0m: The truth value of an array with more than one element is ambiguous. Use a.any() or a.all()"
     ]
    }
   ],
   "source": [
    "import pandas as pd\n",
    "import os\n",
    "\n",
    "# Get the path to the folder\n",
    "folder_path = \"D:/documents to finetune/sft csv/\"\n",
    "\n",
    "# Get the list of CSV files in the folder\n",
    "csv_files = os.listdir(folder_path)\n",
    "\n",
    "# Get the column names of the first CSV file\n",
    "first_file_column_names = pd.read_csv(os.path.join(folder_path, csv_files[0])).columns\n",
    "\n",
    "# Check if the column names of the other CSV files are the same\n",
    "for csv_file in csv_files[1:]:\n",
    "    column_names = pd.read_csv(os.path.join(folder_path, csv_file)).columns\n",
    "    if first_file_column_names != column_names:\n",
    "        print('The column names are not the same.')\n",
    "        break\n",
    "\n",
    "# If the column names are the same, merge the CSV files\n",
    "else:\n",
    "    df = pd.concat(\n",
    "        [pd.read_csv(os.path.join(folder_path, csv_file)) for csv_file in csv_files],\n",
    "        axis=0,\n",
    "    )\n",
    "\n",
    "# Write the DataFrame to a new CSV file\n",
    "df.to_csv('merged.csv', index=False)\n"
   ]
  }
 ],
 "metadata": {
  "kernelspec": {
   "display_name": "base",
   "language": "python",
   "name": "python3"
  },
  "language_info": {
   "codemirror_mode": {
    "name": "ipython",
    "version": 3
   },
   "file_extension": ".py",
   "mimetype": "text/x-python",
   "name": "python",
   "nbconvert_exporter": "python",
   "pygments_lexer": "ipython3",
   "version": "3.10.12"
  },
  "orig_nbformat": 4
 },
 "nbformat": 4,
 "nbformat_minor": 2
}
