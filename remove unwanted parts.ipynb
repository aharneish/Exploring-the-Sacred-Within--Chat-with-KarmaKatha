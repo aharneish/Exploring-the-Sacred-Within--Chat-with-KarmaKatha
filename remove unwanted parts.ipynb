{
 "cells": [
  {
   "cell_type": "code",
   "execution_count": 4,
   "id": "d389888e",
   "metadata": {},
   "outputs": [],
   "source": [
    "file_path = 'C:/Users/Msc 2/Desktop/train_file.txt'  # Specify the path to your text document\n",
    "\n",
    "# Read the file\n",
    "with open(file_path, 'r',encoding='utf-8') as file:\n",
    "    content = file.read()\n",
    "\n",
    "# Remove newline characters\n",
    "content = content.replace('\\n', '')\n",
    "\n",
    "# Overwrite the file with the updated content\n",
    "with open(file_path, 'w',encoding='utf-8') as file:\n",
    "    file.write(content)\n"
   ]
  }
 ],
 "metadata": {
  "kernelspec": {
   "display_name": "Python 3 (ipykernel)",
   "language": "python",
   "name": "python3"
  },
  "language_info": {
   "codemirror_mode": {
    "name": "ipython",
    "version": 3
   },
   "file_extension": ".py",
   "mimetype": "text/x-python",
   "name": "python",
   "nbconvert_exporter": "python",
   "pygments_lexer": "ipython3",
   "version": "3.10.9"
  }
 },
 "nbformat": 4,
 "nbformat_minor": 5
}
